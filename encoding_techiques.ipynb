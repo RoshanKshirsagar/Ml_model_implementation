{
 "cells": [
  {
   "cell_type": "markdown",
   "id": "c7166667-2cae-4caa-b984-30a5eb727c49",
   "metadata": {},
   "source": [
    "##  Categorical Encoding Methods"
   ]
  },
  {
   "cell_type": "markdown",
   "id": "5c53e142-8752-4227-b6a9-858153f8f7e5",
   "metadata": {},
   "source": [
    "### What is Categorical Data?"
   ]
  },
  {
   "cell_type": "raw",
   "id": "eecd23cd-ff19-475c-97cf-484b447eb619",
   "metadata": {},
   "source": [
    "* Categorical data is a type of the data that is used to group information with similar characteristics.\n",
    "* ex:- gender, class, educational_qualification"
   ]
  },
  {
   "cell_type": "markdown",
   "id": "14a03679-2c27-42af-8a2c-4d9e91631313",
   "metadata": {},
   "source": [
    "### What is the need of Encoding?"
   ]
  },
  {
   "cell_type": "raw",
   "id": "b32cef64-9dbb-481e-9afc-bb525ee8fdfc",
   "metadata": {},
   "source": [
    "Most machine learning algorithms cannot handle categorical variables unless we convert them to numerical values."
   ]
  },
  {
   "cell_type": "code",
   "execution_count": 1,
   "id": "89743f70-2f6f-46f1-9ff6-9301b75a3a00",
   "metadata": {},
   "outputs": [
    {
     "data": {
      "text/html": [
       "<div>\n",
       "<style scoped>\n",
       "    .dataframe tbody tr th:only-of-type {\n",
       "        vertical-align: middle;\n",
       "    }\n",
       "\n",
       "    .dataframe tbody tr th {\n",
       "        vertical-align: top;\n",
       "    }\n",
       "\n",
       "    .dataframe thead th {\n",
       "        text-align: right;\n",
       "    }\n",
       "</style>\n",
       "<table border=\"1\" class=\"dataframe\">\n",
       "  <thead>\n",
       "    <tr style=\"text-align: right;\">\n",
       "      <th></th>\n",
       "      <th>gender</th>\n",
       "      <th>marital_status</th>\n",
       "      <th>city</th>\n",
       "      <th>temperature</th>\n",
       "      <th>target</th>\n",
       "    </tr>\n",
       "  </thead>\n",
       "  <tbody>\n",
       "    <tr>\n",
       "      <th>0</th>\n",
       "      <td>Male</td>\n",
       "      <td>Married</td>\n",
       "      <td>Delhi</td>\n",
       "      <td>very cold</td>\n",
       "      <td>1</td>\n",
       "    </tr>\n",
       "    <tr>\n",
       "      <th>1</th>\n",
       "      <td>Female</td>\n",
       "      <td>Single</td>\n",
       "      <td>Mumbai</td>\n",
       "      <td>cold</td>\n",
       "      <td>0</td>\n",
       "    </tr>\n",
       "    <tr>\n",
       "      <th>2</th>\n",
       "      <td>Male</td>\n",
       "      <td>Married</td>\n",
       "      <td>Kolkata</td>\n",
       "      <td>warm</td>\n",
       "      <td>0</td>\n",
       "    </tr>\n",
       "    <tr>\n",
       "      <th>3</th>\n",
       "      <td>Female</td>\n",
       "      <td>Single</td>\n",
       "      <td>Delhi</td>\n",
       "      <td>hot</td>\n",
       "      <td>1</td>\n",
       "    </tr>\n",
       "    <tr>\n",
       "      <th>4</th>\n",
       "      <td>Female</td>\n",
       "      <td>MArried</td>\n",
       "      <td>Kolkata</td>\n",
       "      <td>very hot</td>\n",
       "      <td>1</td>\n",
       "    </tr>\n",
       "  </tbody>\n",
       "</table>\n",
       "</div>"
      ],
      "text/plain": [
       "   gender marital_status     city temperature  target\n",
       "0    Male        Married    Delhi   very cold       1\n",
       "1  Female         Single   Mumbai        cold       0\n",
       "2    Male        Married  Kolkata        warm       0\n",
       "3  Female         Single    Delhi         hot       1\n",
       "4  Female        MArried  Kolkata    very hot       1"
      ]
     },
     "execution_count": 1,
     "metadata": {},
     "output_type": "execute_result"
    }
   ],
   "source": [
    "import pandas as pd\n",
    "\n",
    "## Creating dataframe\n",
    "df = pd.DataFrame({ 'gender' : ['Male', 'Female', 'Male', 'Female','Female','Male'],\n",
    "                    'marital_status' : ['Married','Single','Married','Single','MArried', 'Single'],\n",
    "                    'city' : ['Delhi','Mumbai','Kolkata','Delhi','Kolkata','Chennai'],\n",
    "                    'temperature' :['very cold', 'cold', 'warm', 'hot', 'very hot','hot'],\n",
    "                    'target' : [1, 0, 0, 1, 1, 1] })\n",
    "df.head()"
   ]
  },
  {
   "cell_type": "code",
   "execution_count": 3,
   "id": "7a96ad26-887c-4723-9bfa-24b2162d3fb7",
   "metadata": {},
   "outputs": [
    {
     "name": "stdout",
     "output_type": "stream",
     "text": [
      "Collecting category_encoders\n",
      "  Downloading category_encoders-2.6.0-py2.py3-none-any.whl (81 kB)\n",
      "\u001b[2K     \u001b[90m━━━━━━━━━━━━━━━━━━━━━━━━━━━━━━━━━━━━━━━━\u001b[0m \u001b[32m81.2/81.2 kB\u001b[0m \u001b[31m1.3 MB/s\u001b[0m eta \u001b[36m0:00:00\u001b[0ma \u001b[36m0:00:01\u001b[0m\n",
      "\u001b[?25hRequirement already satisfied: numpy>=1.14.0 in /opt/conda/lib/python3.10/site-packages (from category_encoders) (1.23.4)\n",
      "Requirement already satisfied: statsmodels>=0.9.0 in /opt/conda/lib/python3.10/site-packages (from category_encoders) (0.13.2)\n",
      "Requirement already satisfied: patsy>=0.5.1 in /opt/conda/lib/python3.10/site-packages (from category_encoders) (0.5.3)\n",
      "Requirement already satisfied: scipy>=1.0.0 in /opt/conda/lib/python3.10/site-packages (from category_encoders) (1.9.3)\n",
      "Requirement already satisfied: pandas>=1.0.5 in /opt/conda/lib/python3.10/site-packages (from category_encoders) (1.5.1)\n",
      "Requirement already satisfied: scikit-learn>=0.20.0 in /opt/conda/lib/python3.10/site-packages (from category_encoders) (1.1.2)\n",
      "Requirement already satisfied: python-dateutil>=2.8.1 in /opt/conda/lib/python3.10/site-packages (from pandas>=1.0.5->category_encoders) (2.8.2)\n",
      "Requirement already satisfied: pytz>=2020.1 in /opt/conda/lib/python3.10/site-packages (from pandas>=1.0.5->category_encoders) (2022.5)\n",
      "Requirement already satisfied: six in /opt/conda/lib/python3.10/site-packages (from patsy>=0.5.1->category_encoders) (1.16.0)\n",
      "Requirement already satisfied: joblib>=1.0.0 in /opt/conda/lib/python3.10/site-packages (from scikit-learn>=0.20.0->category_encoders) (1.2.0)\n",
      "Requirement already satisfied: threadpoolctl>=2.0.0 in /opt/conda/lib/python3.10/site-packages (from scikit-learn>=0.20.0->category_encoders) (3.1.0)\n",
      "Requirement already satisfied: packaging>=21.3 in /opt/conda/lib/python3.10/site-packages (from statsmodels>=0.9.0->category_encoders) (21.3)\n",
      "Requirement already satisfied: pyparsing!=3.0.5,>=2.0.2 in /opt/conda/lib/python3.10/site-packages (from packaging>=21.3->statsmodels>=0.9.0->category_encoders) (3.0.9)\n",
      "Installing collected packages: category_encoders\n",
      "Successfully installed category_encoders-2.6.0\n",
      "Note: you may need to restart the kernel to use updated packages.\n"
     ]
    }
   ],
   "source": [
    "pip install category_encoders"
   ]
  },
  {
   "cell_type": "markdown",
   "id": "ac276215-bbb5-4662-aefb-0fdc2fab8fe8",
   "metadata": {},
   "source": [
    "## 1.One-Hot Encoding"
   ]
  },
  {
   "cell_type": "raw",
   "id": "aac655e6-51d3-4477-ab44-dae626cc8e15",
   "metadata": {},
   "source": [
    "* In this method, each category is mapped to a vector that contains 1 and 0 denoting the\n",
    "presence or absence of the feature. The number of vectors depends on the number of categories\n",
    "for features"
   ]
  },
  {
   "cell_type": "code",
   "execution_count": 4,
   "id": "78639dee-0eeb-48dd-a11c-f0cd4b614593",
   "metadata": {},
   "outputs": [
    {
     "data": {
      "text/html": [
       "<div>\n",
       "<style scoped>\n",
       "    .dataframe tbody tr th:only-of-type {\n",
       "        vertical-align: middle;\n",
       "    }\n",
       "\n",
       "    .dataframe tbody tr th {\n",
       "        vertical-align: top;\n",
       "    }\n",
       "\n",
       "    .dataframe thead th {\n",
       "        text-align: right;\n",
       "    }\n",
       "</style>\n",
       "<table border=\"1\" class=\"dataframe\">\n",
       "  <thead>\n",
       "    <tr style=\"text-align: right;\">\n",
       "      <th></th>\n",
       "      <th>gender_1</th>\n",
       "      <th>gender_2</th>\n",
       "      <th>marital_status_1</th>\n",
       "      <th>marital_status_2</th>\n",
       "      <th>marital_status_3</th>\n",
       "      <th>city_1</th>\n",
       "      <th>city_2</th>\n",
       "      <th>city_3</th>\n",
       "      <th>city_4</th>\n",
       "      <th>temperature</th>\n",
       "      <th>target</th>\n",
       "    </tr>\n",
       "  </thead>\n",
       "  <tbody>\n",
       "    <tr>\n",
       "      <th>0</th>\n",
       "      <td>1</td>\n",
       "      <td>0</td>\n",
       "      <td>1</td>\n",
       "      <td>0</td>\n",
       "      <td>0</td>\n",
       "      <td>1</td>\n",
       "      <td>0</td>\n",
       "      <td>0</td>\n",
       "      <td>0</td>\n",
       "      <td>very cold</td>\n",
       "      <td>1</td>\n",
       "    </tr>\n",
       "    <tr>\n",
       "      <th>1</th>\n",
       "      <td>0</td>\n",
       "      <td>1</td>\n",
       "      <td>0</td>\n",
       "      <td>1</td>\n",
       "      <td>0</td>\n",
       "      <td>0</td>\n",
       "      <td>1</td>\n",
       "      <td>0</td>\n",
       "      <td>0</td>\n",
       "      <td>cold</td>\n",
       "      <td>0</td>\n",
       "    </tr>\n",
       "    <tr>\n",
       "      <th>2</th>\n",
       "      <td>1</td>\n",
       "      <td>0</td>\n",
       "      <td>1</td>\n",
       "      <td>0</td>\n",
       "      <td>0</td>\n",
       "      <td>0</td>\n",
       "      <td>0</td>\n",
       "      <td>1</td>\n",
       "      <td>0</td>\n",
       "      <td>warm</td>\n",
       "      <td>0</td>\n",
       "    </tr>\n",
       "    <tr>\n",
       "      <th>3</th>\n",
       "      <td>0</td>\n",
       "      <td>1</td>\n",
       "      <td>0</td>\n",
       "      <td>1</td>\n",
       "      <td>0</td>\n",
       "      <td>1</td>\n",
       "      <td>0</td>\n",
       "      <td>0</td>\n",
       "      <td>0</td>\n",
       "      <td>hot</td>\n",
       "      <td>1</td>\n",
       "    </tr>\n",
       "    <tr>\n",
       "      <th>4</th>\n",
       "      <td>0</td>\n",
       "      <td>1</td>\n",
       "      <td>0</td>\n",
       "      <td>0</td>\n",
       "      <td>1</td>\n",
       "      <td>0</td>\n",
       "      <td>0</td>\n",
       "      <td>1</td>\n",
       "      <td>0</td>\n",
       "      <td>very hot</td>\n",
       "      <td>1</td>\n",
       "    </tr>\n",
       "  </tbody>\n",
       "</table>\n",
       "</div>"
      ],
      "text/plain": [
       "   gender_1  gender_2  marital_status_1  marital_status_2  marital_status_3  \\\n",
       "0         1         0                 1                 0                 0   \n",
       "1         0         1                 0                 1                 0   \n",
       "2         1         0                 1                 0                 0   \n",
       "3         0         1                 0                 1                 0   \n",
       "4         0         1                 0                 0                 1   \n",
       "\n",
       "   city_1  city_2  city_3  city_4 temperature  target  \n",
       "0       1       0       0       0   very cold       1  \n",
       "1       0       1       0       0        cold       0  \n",
       "2       0       0       1       0        warm       0  \n",
       "3       1       0       0       0         hot       1  \n",
       "4       0       0       1       0    very hot       1  "
      ]
     },
     "execution_count": 4,
     "metadata": {},
     "output_type": "execute_result"
    }
   ],
   "source": [
    "import category_encoders as ce\n",
    "ce_ohe = ce.OneHotEncoder(cols=['gender','city','marital_status'])\n",
    "ce_ohe_df = ce_ohe.fit_transform(df)\n",
    "ce_ohe_df.head()"
   ]
  },
  {
   "cell_type": "markdown",
   "id": "09ef582a-45be-4f7a-9010-1a2fcc94b5d3",
   "metadata": {},
   "source": [
    "## 2.Binary Encoding"
   ]
  },
  {
   "cell_type": "raw",
   "id": "d31a7e75-d0b2-4be4-93d4-12432c1af5bb",
   "metadata": {},
   "source": [
    "* Binary encoding converts a category into binary digits. Each binary digit creates one feature column."
   ]
  },
  {
   "cell_type": "code",
   "execution_count": 5,
   "id": "3f09f944-05af-48a8-a2ec-42e13a75efe6",
   "metadata": {},
   "outputs": [
    {
     "data": {
      "text/html": [
       "<div>\n",
       "<style scoped>\n",
       "    .dataframe tbody tr th:only-of-type {\n",
       "        vertical-align: middle;\n",
       "    }\n",
       "\n",
       "    .dataframe tbody tr th {\n",
       "        vertical-align: top;\n",
       "    }\n",
       "\n",
       "    .dataframe thead th {\n",
       "        text-align: right;\n",
       "    }\n",
       "</style>\n",
       "<table border=\"1\" class=\"dataframe\">\n",
       "  <thead>\n",
       "    <tr style=\"text-align: right;\">\n",
       "      <th></th>\n",
       "      <th>city_0</th>\n",
       "      <th>city_1</th>\n",
       "      <th>city_2</th>\n",
       "    </tr>\n",
       "  </thead>\n",
       "  <tbody>\n",
       "    <tr>\n",
       "      <th>0</th>\n",
       "      <td>0</td>\n",
       "      <td>0</td>\n",
       "      <td>1</td>\n",
       "    </tr>\n",
       "    <tr>\n",
       "      <th>1</th>\n",
       "      <td>0</td>\n",
       "      <td>1</td>\n",
       "      <td>0</td>\n",
       "    </tr>\n",
       "    <tr>\n",
       "      <th>2</th>\n",
       "      <td>0</td>\n",
       "      <td>1</td>\n",
       "      <td>1</td>\n",
       "    </tr>\n",
       "    <tr>\n",
       "      <th>3</th>\n",
       "      <td>0</td>\n",
       "      <td>0</td>\n",
       "      <td>1</td>\n",
       "    </tr>\n",
       "    <tr>\n",
       "      <th>4</th>\n",
       "      <td>0</td>\n",
       "      <td>1</td>\n",
       "      <td>1</td>\n",
       "    </tr>\n",
       "    <tr>\n",
       "      <th>5</th>\n",
       "      <td>1</td>\n",
       "      <td>0</td>\n",
       "      <td>0</td>\n",
       "    </tr>\n",
       "  </tbody>\n",
       "</table>\n",
       "</div>"
      ],
      "text/plain": [
       "   city_0  city_1  city_2\n",
       "0       0       0       1\n",
       "1       0       1       0\n",
       "2       0       1       1\n",
       "3       0       0       1\n",
       "4       0       1       1\n",
       "5       1       0       0"
      ]
     },
     "execution_count": 5,
     "metadata": {},
     "output_type": "execute_result"
    }
   ],
   "source": [
    "ce_be = ce.BinaryEncoder(cols=['city'])\n",
    "df_binary = ce_be.fit_transform(df['city'])\n",
    "df_binary"
   ]
  },
  {
   "cell_type": "markdown",
   "id": "c1aa6bad-4016-4066-b503-235cf29da5ff",
   "metadata": {},
   "source": [
    "## 3.Label Encoding"
   ]
  },
  {
   "cell_type": "raw",
   "id": "a330cf36-5695-449e-9f19-344282cb5b66",
   "metadata": {},
   "source": [
    "* In label encoding, each category is assigned a value from 1 t0 N where N is the number of categories for the feature. There is no relation or order between these assignments."
   ]
  },
  {
   "cell_type": "code",
   "execution_count": 8,
   "id": "5f3de6cf-d5b6-4084-be14-6b4f7bd3e1c2",
   "metadata": {},
   "outputs": [
    {
     "name": "stdout",
     "output_type": "stream",
     "text": [
      "gender  :  [1 0 1 0 0 1]\n",
      "marital_status  :  [1 2 1 2 0 2]\n",
      "city  :  [1 3 2 1 2 0]\n",
      "temperature  :  [2 0 4 1 3 1]\n",
      "target  :  [1 0 0 1 1 1]\n"
     ]
    }
   ],
   "source": [
    "from sklearn.preprocessing import LabelEncoder\n",
    "le = LabelEncoder()\n",
    "for col in df.columns:\n",
    "    df_le = le.fit_transform(df[col])\n",
    "    print(col,' : ',df_le)"
   ]
  },
  {
   "cell_type": "markdown",
   "id": "e5958e0a-b6b4-4980-bab6-9fb8b82ee8ef",
   "metadata": {},
   "source": [
    "## 4.Ordinal Encoding"
   ]
  },
  {
   "cell_type": "raw",
   "id": "c0537f83-ef07-4cc6-96eb-c3c5e3cfa6c5",
   "metadata": {},
   "source": [
    "* Ordinal encoding’s encoded variables retain the ordinal (ordered) nature of the variable. It\n",
    "looks similar to label encoding, the only difference being that label coding doesn’t consider\n",
    "whether a variable is ordinal or not; it will then assign a sequence of integers.\n",
    "* Example: Ordinal encoding will assign values as Very Good(1) < Good(2) < Bad(3) <\n",
    "Worse(4)\n",
    "* First, we need to assign the original order of the variable through a dictionary."
   ]
  },
  {
   "cell_type": "code",
   "execution_count": 9,
   "id": "2ede7a5c-1094-4a59-994a-8ffb65663e6a",
   "metadata": {},
   "outputs": [
    {
     "data": {
      "text/html": [
       "<div>\n",
       "<style scoped>\n",
       "    .dataframe tbody tr th:only-of-type {\n",
       "        vertical-align: middle;\n",
       "    }\n",
       "\n",
       "    .dataframe tbody tr th {\n",
       "        vertical-align: top;\n",
       "    }\n",
       "\n",
       "    .dataframe thead th {\n",
       "        text-align: right;\n",
       "    }\n",
       "</style>\n",
       "<table border=\"1\" class=\"dataframe\">\n",
       "  <thead>\n",
       "    <tr style=\"text-align: right;\">\n",
       "      <th></th>\n",
       "      <th>gender</th>\n",
       "      <th>marital_status</th>\n",
       "      <th>city</th>\n",
       "      <th>temperature</th>\n",
       "      <th>target</th>\n",
       "      <th>Temp_ordinal</th>\n",
       "    </tr>\n",
       "  </thead>\n",
       "  <tbody>\n",
       "    <tr>\n",
       "      <th>0</th>\n",
       "      <td>Male</td>\n",
       "      <td>Married</td>\n",
       "      <td>Delhi</td>\n",
       "      <td>very cold</td>\n",
       "      <td>1</td>\n",
       "      <td>1</td>\n",
       "    </tr>\n",
       "    <tr>\n",
       "      <th>1</th>\n",
       "      <td>Female</td>\n",
       "      <td>Single</td>\n",
       "      <td>Mumbai</td>\n",
       "      <td>cold</td>\n",
       "      <td>0</td>\n",
       "      <td>2</td>\n",
       "    </tr>\n",
       "    <tr>\n",
       "      <th>2</th>\n",
       "      <td>Male</td>\n",
       "      <td>Married</td>\n",
       "      <td>Kolkata</td>\n",
       "      <td>warm</td>\n",
       "      <td>0</td>\n",
       "      <td>3</td>\n",
       "    </tr>\n",
       "    <tr>\n",
       "      <th>3</th>\n",
       "      <td>Female</td>\n",
       "      <td>Single</td>\n",
       "      <td>Delhi</td>\n",
       "      <td>hot</td>\n",
       "      <td>1</td>\n",
       "      <td>4</td>\n",
       "    </tr>\n",
       "    <tr>\n",
       "      <th>4</th>\n",
       "      <td>Female</td>\n",
       "      <td>MArried</td>\n",
       "      <td>Kolkata</td>\n",
       "      <td>very hot</td>\n",
       "      <td>1</td>\n",
       "      <td>5</td>\n",
       "    </tr>\n",
       "    <tr>\n",
       "      <th>5</th>\n",
       "      <td>Male</td>\n",
       "      <td>Single</td>\n",
       "      <td>Chennai</td>\n",
       "      <td>hot</td>\n",
       "      <td>1</td>\n",
       "      <td>4</td>\n",
       "    </tr>\n",
       "  </tbody>\n",
       "</table>\n",
       "</div>"
      ],
      "text/plain": [
       "   gender marital_status     city temperature  target  Temp_ordinal\n",
       "0    Male        Married    Delhi   very cold       1             1\n",
       "1  Female         Single   Mumbai        cold       0             2\n",
       "2    Male        Married  Kolkata        warm       0             3\n",
       "3  Female         Single    Delhi         hot       1             4\n",
       "4  Female        MArried  Kolkata    very hot       1             5\n",
       "5    Male         Single  Chennai         hot       1             4"
      ]
     },
     "execution_count": 9,
     "metadata": {},
     "output_type": "execute_result"
    }
   ],
   "source": [
    "dict = {'very cold':1,'cold':2,'warm':3,'hot':4,'very hot':5}\n",
    "df['Temp_ordinal'] = df['temperature'].map(dict)\n",
    "df"
   ]
  },
  {
   "cell_type": "code",
   "execution_count": null,
   "id": "409c5337-d92b-4dd6-8a4c-8fd45aea0371",
   "metadata": {},
   "outputs": [],
   "source": []
  }
 ],
 "metadata": {
  "kernelspec": {
   "display_name": "Python 3 (ipykernel)",
   "language": "python",
   "name": "python3"
  },
  "language_info": {
   "codemirror_mode": {
    "name": "ipython",
    "version": 3
   },
   "file_extension": ".py",
   "mimetype": "text/x-python",
   "name": "python",
   "nbconvert_exporter": "python",
   "pygments_lexer": "ipython3",
   "version": "3.10.6"
  }
 },
 "nbformat": 4,
 "nbformat_minor": 5
}
